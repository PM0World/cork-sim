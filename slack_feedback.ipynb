{
 "cells": [
  {
   "cell_type": "markdown",
   "id": "c3daee38-2567-4066-a553-f61596619244",
   "metadata": {},
   "source": [
    "## Description\n",
    "\n",
    "This is a notebook with a simplified setup, which should show pure DS & CT speculation behaviour over an external stETH timeseries\n",
    "\n",
    "\n",
    "\n",
    "```bash\n",
    "python generate-events.py \\\n",
    "  --start-date 2024-01-01 \\\n",
    "  --end-date 2024-10-26 \\\n",
    "  --threshold 0.001 \\\n",
    "  --output events.json \\\n",
    "  --token-symbol stETH \\\n",
    "  --coin-gecko-id staked-ether \\\n",
    "  --vs-currency eth\n",
    "```"
   ]
  },
  {
   "cell_type": "code",
   "execution_count": 1,
   "id": "35a6eb67-10fe-4759-998c-9b098bcfd161",
   "metadata": {},
   "outputs": [],
   "source": [
    "# Install required packages if not already installed\n",
    "# Uncomment the lines below if you need to install the packages\n",
    "\n",
    "# !pip install pandas matplotlib seaborn colorama numpy requests \n",
    "\n",
    "# Import standard libraries\n",
    "import random\n",
    "import copy\n",
    "import pandas as pd\n",
    "import matplotlib.pyplot as plt\n",
    "import seaborn as sns\n",
    "\n",
    "# Import widgets for interactivity\n",
    "from ipywidgets import interact, FloatSlider, IntSlider, Dropdown\n",
    "\n",
    "# Import custom modules\n",
    "from agents.insurer import Insurer\n",
    "from agents.lst_maximalist import LstMaximalist\n",
    "from agents.ct_long_term import CTLongTermAgent\n",
    "from agents.ct_speculation import CTShortTermAgent\n",
    "from agents.ds_long_term import DSLongTermAgent\n",
    "from agents.ds_speculation import DSShortTermAgent\n",
    "from agents.redemption_arbitrage import RedemptionArbitrageAgent\n",
    "from agents.repurchase_arbitrage import RepurchaseArbitrageAgent\n",
    "from agents.lv_depositor import LVDepositorAgent\n",
    "from agents.looping import LoopingAgent\n",
    "from simulator.blockchain import Blockchain\n",
    "from simulator.amm import UniswapV2AMM, YieldSpaceAMM\n",
    "\n",
    "# Set plotting style\n",
    "sns.set_style('whitegrid')\n",
    "\n",
    "# Enable inline plotting for Jupyter\n",
    "%matplotlib inline"
   ]
  },
  {
   "cell_type": "markdown",
   "id": "b35c3046-1eb3-4a51-927a-aba884b222c1",
   "metadata": {},
   "source": [
    "### Defining Configuration Parameters\n",
    "\n",
    "In this section, we'll define the simulation parameters. You can adjust these parameters to see how they affect the simulation.\n"
   ]
  },
  {
   "cell_type": "code",
   "execution_count": 2,
   "id": "64be957e-4d03-4f79-9717-d7f3208ec36d",
   "metadata": {
    "ExecuteTime": {
     "end_time": "2024-11-03T11:05:01.672422Z",
     "start_time": "2024-11-03T11:05:01.669747Z"
    }
   },
   "outputs": [],
   "source": [
    "# Simulation parameters\n",
    "NUM_BLOCKS = 300  # Number of blocks to simulate\n",
    "INITIAL_ETH_BALANCE = 100.0  # Initial ETH balance for each agent\n",
    "PSM_EXPIRY_AFTER_BLOCK = 300  # Block after which the Peg Stability Module (PSM) expires\n",
    "\n",
    "# Token parameters\n",
    "TOKEN_NAME = 'stETH'  # Name of the token to simulate\n",
    "INITIAL_AGENT_TOKEN_BALANCE = 100.0  # Initial token balance for each agent\n",
    "AMM_RESERVE_ETH = 1000000.0  # Initial ETH reserve in the AMM\n",
    "AMM_RESERVE_TOKEN = 1000000.0  # Initial token reserve in the AMM\n",
    "AMM_FEE = 0.02  # Fee percentage in the AMM, 0.02 = 2%\n",
    "INITIAL_YIELD_PER_BLOCK = 0.03 / 365  # Yield per block (assuming 3% annual yield)\n",
    "PSM_REDEMPTION_FEES = 0.001  # Redemption fees for the Peg Stability Module, 0.001 = 0.1%\n",
    "PSM_REPURCHASE_FEES = 0.05  # Reurchase fees for the Peg Stability Module, 0.05 = 5%\n",
    "\n",
    "# Agents to include in the simulation\n",
    "AGENT_NAMES = [\n",
    "    #'LstMaximalist',\n",
    "    #'Insurer',\n",
    "    'DSShortTerm',\n",
    "    'CTShortTerm',\n",
    "    #'DSLongTerm',\n",
    "    #'CTLongTerm',\n",
    "    'RedemptionArbitrage',\n",
    "    'RepurchaseArbitrage',\n",
    "    #'LVDepositor',\n",
    "    'LoopingAgent'\n",
    "    ]"
   ]
  },
  {
   "cell_type": "markdown",
   "id": "a1230ebc-6ac0-440b-b832-36730db7860a",
   "metadata": {},
   "source": [
    "## Initializing the Blockchain\n",
    "\n",
    "Now we'll create the blockchain instance using the parameters defined above.\n"
   ]
  },
  {
   "cell_type": "code",
   "execution_count": 3,
   "id": "6c633f64-018b-4ca6-935f-c2513f28a904",
   "metadata": {},
   "outputs": [],
   "source": [
    "# Create the blockchain\n",
    "chain = Blockchain(\n",
    "    num_blocks=NUM_BLOCKS,\n",
    "    initial_eth_balance=INITIAL_ETH_BALANCE,\n",
    "    psm_expiry_after_block=PSM_EXPIRY_AFTER_BLOCK\n",
    ")"
   ]
  },
  {
   "cell_type": "markdown",
   "id": "ec7386cb-c17f-4863-9aa3-0e66df12e62e",
   "metadata": {},
   "source": [
    "## Adding Tokens and Agents\n",
    "\n",
    "### Adding the Token\n",
    "\n",
    "We'll add a token to the blockchain with its associated AMM.\n"
   ]
  },
  {
   "cell_type": "code",
   "execution_count": 4,
   "id": "9361c474-be52-4497-9236-e4a5aace57fd",
   "metadata": {},
   "outputs": [],
   "source": [
    "# Add the token with the specified AMM\n",
    "chain.add_token(\n",
    "    token=TOKEN_NAME,\n",
    "    risk=0.02,\n",
    "    initial_agent_balance=INITIAL_AGENT_TOKEN_BALANCE,\n",
    "    amm=UniswapV2AMM(\n",
    "        token_symbol=TOKEN_NAME,\n",
    "        reserve_eth=AMM_RESERVE_ETH,\n",
    "        reserve_token=AMM_RESERVE_TOKEN,\n",
    "        fee=AMM_FEE\n",
    "    ),\n",
    "    initial_yield_per_block=INITIAL_YIELD_PER_BLOCK\n",
    ")"
   ]
  },
  {
   "cell_type": "markdown",
   "id": "b866750e-3da3-4f6f-81ef-d0ff22a5dfc3",
   "metadata": {},
   "source": [
    "### Adding Agents\n",
    "\n",
    "We'll instantiate the agents and add them to the blockchain.\n"
   ]
  },
  {
   "cell_type": "code",
   "execution_count": 5,
   "id": "3da8d98a-19ad-4a51-9a59-8366b4a81638",
   "metadata": {},
   "outputs": [],
   "source": [
    "# Instantiate agents based on AGENT_NAMES\n",
    "agents = []\n",
    "for name in AGENT_NAMES:\n",
    "    #if name == 'LstMaximalist':\n",
    "    #    agents.append(LstMaximalist(TOKEN_NAME))\n",
    "    #elif name == 'Insurer':\n",
    "    #    agents.append(Insurer(TOKEN_NAME))\n",
    "    if name == 'DSShortTerm':\n",
    "        agents.append(DSShortTermAgent(name=\"DS Short Term\", token_symbol=TOKEN_NAME, threshold=0.01))\n",
    "    elif name == 'CTShortTerm':\n",
    "        agents.append(CTShortTermAgent(name=\"CT Short Term\", token_symbol=TOKEN_NAME, buying_pressure=10))\n",
    "    elif name == 'DSLongTerm':  \n",
    "        agents.append(DSLongTermAgent(name=\"DS Long Term\", token_symbol=TOKEN_NAME, buying_pressure=1))\n",
    "    elif name == 'CTLongTerm':\n",
    "        agents.append(CTLongTermAgent(name=\"CT Long Term\", token_symbol=TOKEN_NAME, percentage_threshold=0.01))\n",
    "    elif name == 'RedemptionArbitrage':\n",
    "        agents.append(RedemptionArbitrageAgent(name=\"Redemption Arb\", token_symbol=TOKEN_NAME))\n",
    "    elif name == 'RepurchaseArbitrage':\n",
    "        agents.append(RepurchaseArbitrageAgent(name=\"Repurchase Arb\", token_symbol=TOKEN_NAME))\n",
    "    elif name == 'LVDepositor':\n",
    "        agents.append(LVDepositorAgent(name=\"LV Depositor\", token_symbol=TOKEN_NAME, expected_apy=0.05))\n",
    "    elif name == 'LoopingAgent':\n",
    "        agents.append(LoopingAgent(\n",
    "            name=\"Looping Agent\", \n",
    "            token_symbol=TOKEN_NAME,\n",
    "            initial_borrow_rate=0.001, \n",
    "            borrow_rate_changes={}, \n",
    "            max_ltv=0.7, \n",
    "            lltv=0.915))\n",
    "\n",
    "# Add agents to the blockchain\n",
    "chain.add_agents(*agents)\n"
   ]
  },
  {
   "cell_type": "markdown",
   "id": "c2990617-4289-46e1-bf16-7c5994300dca",
   "metadata": {},
   "source": [
    "## Running the Simulation\n",
    "\n",
    "Now we'll start the mining process, which runs the simulation over the specified number of blocks.\n"
   ]
  },
  {
   "cell_type": "code",
   "execution_count": 6,
   "id": "4c895e7e-b945-4e67-ac1e-5ff89c6916b2",
   "metadata": {},
   "outputs": [],
   "source": [
    "# Start mining without printing stats to minimize output\n",
    "chain.start_mining(print_stats=False)"
   ]
  },
  {
   "cell_type": "markdown",
   "id": "4f24bf8f-9c97-443b-8b65-351909c91268",
   "metadata": {},
   "source": [
    "## Analyzing Results\n",
    "\n",
    "After the simulation, we can analyze the collected statistics and visualize them using charts.\n"
   ]
  },
  {
   "cell_type": "code",
   "execution_count": 7,
   "id": "eaa1bdd9-2905-464e-9209-59f9d4c3803b",
   "metadata": {},
   "outputs": [],
   "source": [
    "# Access stats dataframes\n",
    "agents_stats = chain.stats['agents']\n",
    "tokens_stats = chain.stats['tokens']\n",
    "vaults_stats = chain.stats['vaults']\n",
    "amms_stats = chain.stats['amms']\n",
    "borrowed_eth_stats = chain.stats['borrowed_eth']\n",
    "borrowed_tokens_stats = chain.stats['borrowed_tokens']\n"
   ]
  },
  {
   "cell_type": "code",
   "execution_count": 8,
   "id": "76965ae8",
   "metadata": {},
   "outputs": [
    {
     "data": {
      "text/html": [
       "<div>\n",
       "<style scoped>\n",
       "    .dataframe tbody tr th:only-of-type {\n",
       "        vertical-align: middle;\n",
       "    }\n",
       "\n",
       "    .dataframe tbody tr th {\n",
       "        vertical-align: top;\n",
       "    }\n",
       "\n",
       "    .dataframe thead th {\n",
       "        text-align: right;\n",
       "    }\n",
       "</style>\n",
       "<table border=\"1\" class=\"dataframe\">\n",
       "  <thead>\n",
       "    <tr style=\"text-align: right;\">\n",
       "      <th></th>\n",
       "      <th>block</th>\n",
       "      <th>token</th>\n",
       "      <th>lp_token_price_eth</th>\n",
       "      <th>eth_balance</th>\n",
       "      <th>ds_balance_eth</th>\n",
       "    </tr>\n",
       "  </thead>\n",
       "  <tbody>\n",
       "    <tr>\n",
       "      <th>0</th>\n",
       "      <td>0</td>\n",
       "      <td>stETH</td>\n",
       "      <td>0.0</td>\n",
       "      <td>0.000000</td>\n",
       "      <td>0.0</td>\n",
       "    </tr>\n",
       "    <tr>\n",
       "      <th>1</th>\n",
       "      <td>1</td>\n",
       "      <td>stETH</td>\n",
       "      <td>0.0</td>\n",
       "      <td>9.388918</td>\n",
       "      <td>0.0</td>\n",
       "    </tr>\n",
       "    <tr>\n",
       "      <th>2</th>\n",
       "      <td>2</td>\n",
       "      <td>stETH</td>\n",
       "      <td>0.0</td>\n",
       "      <td>10.349022</td>\n",
       "      <td>0.0</td>\n",
       "    </tr>\n",
       "    <tr>\n",
       "      <th>3</th>\n",
       "      <td>3</td>\n",
       "      <td>stETH</td>\n",
       "      <td>0.0</td>\n",
       "      <td>10.455699</td>\n",
       "      <td>0.0</td>\n",
       "    </tr>\n",
       "    <tr>\n",
       "      <th>4</th>\n",
       "      <td>4</td>\n",
       "      <td>stETH</td>\n",
       "      <td>0.0</td>\n",
       "      <td>10.455699</td>\n",
       "      <td>0.0</td>\n",
       "    </tr>\n",
       "    <tr>\n",
       "      <th>...</th>\n",
       "      <td>...</td>\n",
       "      <td>...</td>\n",
       "      <td>...</td>\n",
       "      <td>...</td>\n",
       "      <td>...</td>\n",
       "    </tr>\n",
       "    <tr>\n",
       "      <th>296</th>\n",
       "      <td>296</td>\n",
       "      <td>stETH</td>\n",
       "      <td>0.0</td>\n",
       "      <td>542.321358</td>\n",
       "      <td>0.0</td>\n",
       "    </tr>\n",
       "    <tr>\n",
       "      <th>297</th>\n",
       "      <td>297</td>\n",
       "      <td>stETH</td>\n",
       "      <td>0.0</td>\n",
       "      <td>542.321358</td>\n",
       "      <td>0.0</td>\n",
       "    </tr>\n",
       "    <tr>\n",
       "      <th>298</th>\n",
       "      <td>298</td>\n",
       "      <td>stETH</td>\n",
       "      <td>0.0</td>\n",
       "      <td>542.321358</td>\n",
       "      <td>0.0</td>\n",
       "    </tr>\n",
       "    <tr>\n",
       "      <th>299</th>\n",
       "      <td>299</td>\n",
       "      <td>stETH</td>\n",
       "      <td>0.0</td>\n",
       "      <td>542.321358</td>\n",
       "      <td>0.0</td>\n",
       "    </tr>\n",
       "    <tr>\n",
       "      <th>300</th>\n",
       "      <td>300</td>\n",
       "      <td>stETH</td>\n",
       "      <td>0.0</td>\n",
       "      <td>542.321358</td>\n",
       "      <td>0.0</td>\n",
       "    </tr>\n",
       "  </tbody>\n",
       "</table>\n",
       "<p>301 rows × 5 columns</p>\n",
       "</div>"
      ],
      "text/plain": [
       "     block  token  lp_token_price_eth  eth_balance  ds_balance_eth\n",
       "0        0  stETH                 0.0     0.000000             0.0\n",
       "1        1  stETH                 0.0     9.388918             0.0\n",
       "2        2  stETH                 0.0    10.349022             0.0\n",
       "3        3  stETH                 0.0    10.455699             0.0\n",
       "4        4  stETH                 0.0    10.455699             0.0\n",
       "..     ...    ...                 ...          ...             ...\n",
       "296    296  stETH                 0.0   542.321358             0.0\n",
       "297    297  stETH                 0.0   542.321358             0.0\n",
       "298    298  stETH                 0.0   542.321358             0.0\n",
       "299    299  stETH                 0.0   542.321358             0.0\n",
       "300    300  stETH                 0.0   542.321358             0.0\n",
       "\n",
       "[301 rows x 5 columns]"
      ]
     },
     "execution_count": 8,
     "metadata": {},
     "output_type": "execute_result"
    }
   ],
   "source": [
    "vaults_stats"
   ]
  },
  {
   "cell_type": "markdown",
   "id": "f626a7f1",
   "metadata": {},
   "source": [
    "## APY\n",
    "\n",
    "we gather all fees & earnings collected"
   ]
  },
  {
   "cell_type": "code",
   "execution_count": 9,
   "id": "f174df35",
   "metadata": {},
   "outputs": [
    {
     "data": {
      "text/plain": [
       "0"
      ]
     },
     "execution_count": 9,
     "metadata": {},
     "output_type": "execute_result"
    }
   ],
   "source": [
    "sum(chain.get_amm(\"DS_stETH\").fee_accumulated_eth)\n"
   ]
  },
  {
   "cell_type": "code",
   "execution_count": 10,
   "id": "be3c8c3c",
   "metadata": {},
   "outputs": [
    {
     "data": {
      "text/plain": [
       "565"
      ]
     },
     "execution_count": 10,
     "metadata": {},
     "output_type": "execute_result"
    }
   ],
   "source": [
    "sum(chain.get_amm(\"DS_stETH\").fee_accumulated_token)\n"
   ]
  },
  {
   "cell_type": "code",
   "execution_count": 11,
   "id": "855a15a5",
   "metadata": {},
   "outputs": [
    {
     "data": {
      "text/plain": [
       "0"
      ]
     },
     "execution_count": 11,
     "metadata": {},
     "output_type": "execute_result"
    }
   ],
   "source": [
    "sum(chain.get_amm(\"CT_stETH\").fee_accumulated_eth)\n"
   ]
  },
  {
   "cell_type": "code",
   "execution_count": 12,
   "id": "2e414c8a",
   "metadata": {},
   "outputs": [
    {
     "data": {
      "text/plain": [
       "6375"
      ]
     },
     "execution_count": 12,
     "metadata": {},
     "output_type": "execute_result"
    }
   ],
   "source": [
    "sum(chain.get_amm(\"CT_stETH\").fee_accumulated_token)\n"
   ]
  },
  {
   "cell_type": "code",
   "execution_count": 13,
   "id": "056ba38e",
   "metadata": {},
   "outputs": [
    {
     "data": {
      "text/plain": [
       "0.0"
      ]
     },
     "execution_count": 13,
     "metadata": {},
     "output_type": "execute_result"
    }
   ],
   "source": [
    "PSM = chain.get_psm(\"stETH\")\n",
    "PSM.total_redemption_fee\n",
    "PSM.total_repurchase_fee"
   ]
  },
  {
   "cell_type": "markdown",
   "id": "7dfda89c",
   "metadata": {},
   "source": [
    "### APY in one variable"
   ]
  },
  {
   "cell_type": "code",
   "execution_count": 14,
   "id": "c0facf87",
   "metadata": {},
   "outputs": [],
   "source": [
    "apy_total = (\n",
    "    sum(chain.get_amm(\"DS_stETH\").fee_accumulated_eth) + \n",
    "    sum(chain.get_amm(\"DS_stETH\").fee_accumulated_token) +\n",
    "    sum(chain.get_amm(\"CT_stETH\").fee_accumulated_eth) +\n",
    "    sum(chain.get_amm(\"CT_stETH\").fee_accumulated_token) +\n",
    "    PSM.total_redemption_fee +\n",
    "    PSM.total_repurchase_fee\n",
    ")"
   ]
  },
  {
   "cell_type": "markdown",
   "id": "ca48f358",
   "metadata": {},
   "source": [
    "Note: Buying DS is currently implemented always in this way:\n",
    "\n",
    "   \"Buy DS tokens via the vault by borrowing ETH, acquiring CT/DS via the PSM,\n",
    "   selling CT for ETH, and returning the remainder DS tokens to the investor\"\n",
    "\n",
    "Therefore no direct PSM/vault DS reserve selling (which increases APY) is happening and logged."
   ]
  },
  {
   "cell_type": "markdown",
   "id": "995d049d",
   "metadata": {},
   "source": [
    "# Trading Volumes\n",
    "\n",
    "All trades are done by agents so we best collect volumes from their trading logs.\n",
    "\n",
    "This code shows how to get a simple tabular overview of the trades. \"Action\" will show regular buy/sell at vault as well as repurchase and redemption activity. "
   ]
  },
  {
   "cell_type": "code",
   "execution_count": 15,
   "id": "4d4f1ecc",
   "metadata": {},
   "outputs": [
    {
     "data": {
      "text/plain": [
       "block  token  action\n",
       "1      DS     buy       88.00000\n",
       "       Token  buy       88.00000\n",
       "2      DS     buy        9.00000\n",
       "       Token  buy        9.00000\n",
       "3      DS     buy        1.00000\n",
       "       Token  buy        1.00000\n",
       "279    CT     sell       0.00000\n",
       "       DS     buy       51.15602\n",
       "280    CT     sell       0.00000\n",
       "       DS     buy       48.84398\n",
       "281    CT     sell       0.00000\n",
       "282    CT     sell       0.00000\n",
       "283    CT     sell       0.00000\n",
       "284    CT     sell       0.00000\n",
       "285    CT     sell       0.00000\n",
       "286    CT     sell       0.00000\n",
       "287    CT     sell       0.00000\n",
       "288    CT     sell       0.00000\n",
       "289    CT     sell       0.00000\n",
       "290    CT     sell       0.00000\n",
       "291    CT     sell       0.00000\n",
       "292    CT     sell       0.00000\n",
       "293    CT     sell       0.00000\n",
       "294    CT     sell       0.00000\n",
       "295    CT     sell       0.00000\n",
       "296    CT     sell       0.00000\n",
       "297    CT     sell       0.00000\n",
       "298    CT     sell       0.00000\n",
       "299    CT     sell       0.00000\n",
       "300    CT     sell       0.00000\n",
       "Name: volume, dtype: float64"
      ]
     },
     "execution_count": 15,
     "metadata": {},
     "output_type": "execute_result"
    }
   ],
   "source": [
    "all_trades = pd.DataFrame(chain.all_trades)\n",
    "all_trades.groupby([\"block\", \"token\", \"action\"])[\"volume\"].sum()"
   ]
  },
  {
   "cell_type": "code",
   "execution_count": 16,
   "id": "87bd09ce",
   "metadata": {},
   "outputs": [
    {
     "data": {
      "text/plain": [
       "agent          token  action\n",
       "CT Short Term  CT     sell        0.0\n",
       "DS Short Term  DS     buy       100.0\n",
       "Looping Agent  DS     buy        98.0\n",
       "               Token  buy        98.0\n",
       "Name: volume, dtype: float64"
      ]
     },
     "execution_count": 16,
     "metadata": {},
     "output_type": "execute_result"
    }
   ],
   "source": [
    "all_trades = pd.DataFrame(chain.all_trades)\n",
    "all_trades.groupby([\"agent\", \"token\", \"action\"])[\"volume\"].sum()"
   ]
  },
  {
   "cell_type": "markdown",
   "id": "3151f679",
   "metadata": {},
   "source": [
    "# Looping Trades"
   ]
  },
  {
   "cell_type": "code",
   "execution_count": null,
   "id": "4cea6a4e",
   "metadata": {},
   "outputs": [
    {
     "data": {
      "text/html": [
       "<div>\n",
       "<style scoped>\n",
       "    .dataframe tbody tr th:only-of-type {\n",
       "        vertical-align: middle;\n",
       "    }\n",
       "\n",
       "    .dataframe tbody tr th {\n",
       "        vertical-align: top;\n",
       "    }\n",
       "\n",
       "    .dataframe thead th {\n",
       "        text-align: right;\n",
       "    }\n",
       "</style>\n",
       "<table border=\"1\" class=\"dataframe\">\n",
       "  <thead>\n",
       "    <tr style=\"text-align: right;\">\n",
       "      <th></th>\n",
       "      <th>block</th>\n",
       "      <th>agent</th>\n",
       "      <th>token</th>\n",
       "      <th>volume</th>\n",
       "      <th>action</th>\n",
       "      <th>reason</th>\n",
       "      <th>ds_price</th>\n",
       "      <th>total_yield</th>\n",
       "      <th>borrow_rate</th>\n",
       "    </tr>\n",
       "  </thead>\n",
       "  <tbody>\n",
       "    <tr>\n",
       "      <th>0</th>\n",
       "      <td>1</td>\n",
       "      <td>Looping Agent</td>\n",
       "      <td>Token</td>\n",
       "      <td>88.0</td>\n",
       "      <td>buy</td>\n",
       "      <td>ds_price &lt; (total_yield - self.borrow_rate)</td>\n",
       "      <td>0.019933</td>\n",
       "      <td>0.024575</td>\n",
       "      <td>0.001</td>\n",
       "    </tr>\n",
       "    <tr>\n",
       "      <th>1</th>\n",
       "      <td>1</td>\n",
       "      <td>Looping Agent</td>\n",
       "      <td>DS</td>\n",
       "      <td>88.0</td>\n",
       "      <td>buy</td>\n",
       "      <td>ds_price &lt; (total_yield - self.borrow_rate)</td>\n",
       "      <td>0.019933</td>\n",
       "      <td>0.024575</td>\n",
       "      <td>0.001</td>\n",
       "    </tr>\n",
       "    <tr>\n",
       "      <th>2</th>\n",
       "      <td>2</td>\n",
       "      <td>Looping Agent</td>\n",
       "      <td>Token</td>\n",
       "      <td>9.0</td>\n",
       "      <td>buy</td>\n",
       "      <td>ds_price &lt; (total_yield - self.borrow_rate)</td>\n",
       "      <td>0.019933</td>\n",
       "      <td>0.024493</td>\n",
       "      <td>0.001</td>\n",
       "    </tr>\n",
       "    <tr>\n",
       "      <th>3</th>\n",
       "      <td>2</td>\n",
       "      <td>Looping Agent</td>\n",
       "      <td>DS</td>\n",
       "      <td>9.0</td>\n",
       "      <td>buy</td>\n",
       "      <td>ds_price &lt; (total_yield - self.borrow_rate)</td>\n",
       "      <td>0.019933</td>\n",
       "      <td>0.024493</td>\n",
       "      <td>0.001</td>\n",
       "    </tr>\n",
       "    <tr>\n",
       "      <th>4</th>\n",
       "      <td>3</td>\n",
       "      <td>Looping Agent</td>\n",
       "      <td>Token</td>\n",
       "      <td>1.0</td>\n",
       "      <td>buy</td>\n",
       "      <td>ds_price &lt; (total_yield - self.borrow_rate)</td>\n",
       "      <td>0.019933</td>\n",
       "      <td>0.024411</td>\n",
       "      <td>0.001</td>\n",
       "    </tr>\n",
       "    <tr>\n",
       "      <th>5</th>\n",
       "      <td>3</td>\n",
       "      <td>Looping Agent</td>\n",
       "      <td>DS</td>\n",
       "      <td>1.0</td>\n",
       "      <td>buy</td>\n",
       "      <td>ds_price &lt; (total_yield - self.borrow_rate)</td>\n",
       "      <td>0.019933</td>\n",
       "      <td>0.024411</td>\n",
       "      <td>0.001</td>\n",
       "    </tr>\n",
       "  </tbody>\n",
       "</table>\n",
       "</div>"
      ],
      "text/plain": [
       "   block          agent  token  volume action  \\\n",
       "0      1  Looping Agent  Token    88.0    buy   \n",
       "1      1  Looping Agent     DS    88.0    buy   \n",
       "2      2  Looping Agent  Token     9.0    buy   \n",
       "3      2  Looping Agent     DS     9.0    buy   \n",
       "4      3  Looping Agent  Token     1.0    buy   \n",
       "5      3  Looping Agent     DS     1.0    buy   \n",
       "\n",
       "                                        reason  ds_price  total_yield  \\\n",
       "0  ds_price < (total_yield - self.borrow_rate)  0.019933     0.024575   \n",
       "1  ds_price < (total_yield - self.borrow_rate)  0.019933     0.024575   \n",
       "2  ds_price < (total_yield - self.borrow_rate)  0.019933     0.024493   \n",
       "3  ds_price < (total_yield - self.borrow_rate)  0.019933     0.024493   \n",
       "4  ds_price < (total_yield - self.borrow_rate)  0.019933     0.024411   \n",
       "5  ds_price < (total_yield - self.borrow_rate)  0.019933     0.024411   \n",
       "\n",
       "   borrow_rate  \n",
       "0        0.001  \n",
       "1        0.001  \n",
       "2        0.001  \n",
       "3        0.001  \n",
       "4        0.001  \n",
       "5        0.001  "
      ]
     },
     "metadata": {},
     "output_type": "display_data"
    }
   ],
   "source": [
    "current_agent = \"Looping Agent\"\n",
    "\n",
    "(\n",
    "    pd.concat([\n",
    "        all_trades.query(\"agent == @current_agent\").drop(columns=[\"additional_info\"]),\n",
    "        all_trades.query(\"agent == @current_agent\")[\"additional_info\"].apply(pd.Series),\n",
    "    ], axis=1\n",
    "    )\n",
    ")"
   ]
  }
 ],
 "metadata": {
  "kernelspec": {
   "display_name": "venv",
   "language": "python",
   "name": "python3"
  },
  "language_info": {
   "codemirror_mode": {
    "name": "ipython",
    "version": 3
   },
   "file_extension": ".py",
   "mimetype": "text/x-python",
   "name": "python",
   "nbconvert_exporter": "python",
   "pygments_lexer": "ipython3",
   "version": "3.11.5"
  }
 },
 "nbformat": 4,
 "nbformat_minor": 5
}
